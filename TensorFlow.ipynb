{
  "nbformat": 4,
  "nbformat_minor": 0,
  "metadata": {
    "colab": {
      "provenance": [],
      "authorship_tag": "ABX9TyOYV1Wy9GzlSs0/U8EJptWm",
      "include_colab_link": true
    },
    "kernelspec": {
      "name": "python3",
      "display_name": "Python 3"
    },
    "language_info": {
      "name": "python"
    }
  },
  "cells": [
    {
      "cell_type": "markdown",
      "metadata": {
        "id": "view-in-github",
        "colab_type": "text"
      },
      "source": [
        "<a href=\"https://colab.research.google.com/github/donkariuki/Machine-Learning/blob/main/TensorFlow.ipynb\" target=\"_parent\"><img src=\"https://colab.research.google.com/assets/colab-badge.svg\" alt=\"Open In Colab\"/></a>"
      ]
    },
    {
      "cell_type": "markdown",
      "source": [
        "\n",
        "\n",
        "#INTRODUCTION TO TENSOR FLOW\n",
        "\n"
      ],
      "metadata": {
        "id": "I9fEFSDKqtD2"
      }
    },
    {
      "cell_type": "code",
      "execution_count": 1,
      "metadata": {
        "id": "X4NW38I5fCoc"
      },
      "outputs": [],
      "source": [
        "#Tensor- A tensor is a mathematical object used to represent and manipulate multi-dimensional arrays of data.\n",
        "#It generalizes scalars, vectors, and matrices to higher dimensions."
      ]
    },
    {
      "cell_type": "code",
      "source": [
        "# Each tensor has a data type and shape\n",
        "#shape- represents the dimensions"
      ],
      "metadata": {
        "id": "BzIh4l9MgdG6"
      },
      "execution_count": 2,
      "outputs": []
    },
    {
      "cell_type": "code",
      "source": [
        "!pip install pyforest"
      ],
      "metadata": {
        "colab": {
          "base_uri": "https://localhost:8080/"
        },
        "id": "9ghLwm9LiKaV",
        "outputId": "d781789d-43b9-4a02-a3a9-e076ac16a513"
      },
      "execution_count": 4,
      "outputs": [
        {
          "output_type": "stream",
          "name": "stdout",
          "text": [
            "Collecting pyforest\n",
            "  Downloading pyforest-1.1.0.tar.gz (15 kB)\n",
            "  Preparing metadata (setup.py) ... \u001b[?25l\u001b[?25hdone\n",
            "Building wheels for collected packages: pyforest\n",
            "  Building wheel for pyforest (setup.py) ... \u001b[?25l\u001b[?25hdone\n",
            "  Created wheel for pyforest: filename=pyforest-1.1.0-py2.py3-none-any.whl size=14606 sha256=c5ee9b3a35248f60a82410656c2bda9ef0c082ace53c27f89f08c2cd2200f278\n",
            "  Stored in directory: /root/.cache/pip/wheels/9e/7d/2c/5d2f5e62de376c386fd3bf5a8e5bd119ace6a9f48f49df6017\n",
            "Successfully built pyforest\n",
            "Installing collected packages: pyforest\n",
            "Successfully installed pyforest-1.1.0\n"
          ]
        }
      ]
    },
    {
      "cell_type": "code",
      "source": [
        "import pyforest"
      ],
      "metadata": {
        "id": "uAVHolEmiQno"
      },
      "execution_count": 5,
      "outputs": []
    },
    {
      "cell_type": "code",
      "source": [
        "# import tensorflow as tf\n",
        "print(tf.version)"
      ],
      "metadata": {
        "colab": {
          "base_uri": "https://localhost:8080/",
          "height": 34
        },
        "id": "_bNTQaYnp9Dt",
        "outputId": "13589e5a-83ab-47e0-aebc-1122d5651840"
      },
      "execution_count": 22,
      "outputs": [
        {
          "output_type": "display_data",
          "data": {
            "text/plain": [
              "<IPython.core.display.Javascript object>"
            ],
            "application/javascript": [
              "\n",
              "        if (window._pyforest_update_imports_cell) { window._pyforest_update_imports_cell('from scipy import stats\\nimport spacy\\nimport pydot\\nimport plotly as py\\nimport seaborn as sns\\nfrom sklearn import svm\\nfrom sklearn.manifold import TSNE\\nimport torch\\nfrom sklearn.model_selection import train_test_split\\nfrom scipy import signal as sg\\nimport tensorflow as tf\\nimport skimage\\nimport pandas as pd\\nimport pickle\\nimport statsmodels.api as sm\\nimport plotly.express as px\\nimport statistics\\nimport sys\\nimport re\\nfrom sklearn.feature_extraction.text import TfidfVectorizer\\nimport altair as alt\\nimport textblob\\nimport matplotlib.pyplot as plt\\nimport tqdm\\nimport sklearn'); }\n",
              "    "
            ]
          },
          "metadata": {}
        },
        {
          "output_type": "stream",
          "name": "stdout",
          "text": [
            "<module 'tensorflow._api.v2.version' from '/usr/local/lib/python3.10/dist-packages/tensorflow/_api/v2/version/__init__.py'>\n"
          ]
        }
      ]
    },
    {
      "cell_type": "code",
      "source": [
        "#creating a tensor\n",
        "\n",
        "string= tf.Variable('This is a string', tf.string)\n",
        "number= tf.Variable(324, tf.int16)\n",
        "floating = tf.Variable(3.29, tf.float64)"
      ],
      "metadata": {
        "colab": {
          "base_uri": "https://localhost:8080/",
          "height": 17
        },
        "id": "fBhCtaz-hOzq",
        "outputId": "3abcd4ce-f9ab-4113-fb61-77a81e88cf72"
      },
      "execution_count": 6,
      "outputs": [
        {
          "output_type": "display_data",
          "data": {
            "text/plain": [
              "<IPython.core.display.Javascript object>"
            ],
            "application/javascript": [
              "\n",
              "        if (window._pyforest_update_imports_cell) { window._pyforest_update_imports_cell('import tensorflow as tf'); }\n",
              "    "
            ]
          },
          "metadata": {}
        },
        {
          "output_type": "display_data",
          "data": {
            "text/plain": [
              "<IPython.core.display.Javascript object>"
            ],
            "application/javascript": [
              "\n",
              "        if (window._pyforest_update_imports_cell) { window._pyforest_update_imports_cell('import tensorflow as tf'); }\n",
              "    "
            ]
          },
          "metadata": {}
        },
        {
          "output_type": "display_data",
          "data": {
            "text/plain": [
              "<IPython.core.display.Javascript object>"
            ],
            "application/javascript": [
              "\n",
              "        if (window._pyforest_update_imports_cell) { window._pyforest_update_imports_cell('import tensorflow as tf'); }\n",
              "    "
            ]
          },
          "metadata": {}
        },
        {
          "output_type": "display_data",
          "data": {
            "text/plain": [
              "<IPython.core.display.Javascript object>"
            ],
            "application/javascript": [
              "\n",
              "        if (window._pyforest_update_imports_cell) { window._pyforest_update_imports_cell('import tensorflow as tf'); }\n",
              "    "
            ]
          },
          "metadata": {}
        },
        {
          "output_type": "display_data",
          "data": {
            "text/plain": [
              "<IPython.core.display.Javascript object>"
            ],
            "application/javascript": [
              "\n",
              "        if (window._pyforest_update_imports_cell) { window._pyforest_update_imports_cell('import tensorflow as tf'); }\n",
              "    "
            ]
          },
          "metadata": {}
        },
        {
          "output_type": "display_data",
          "data": {
            "text/plain": [
              "<IPython.core.display.Javascript object>"
            ],
            "application/javascript": [
              "\n",
              "        if (window._pyforest_update_imports_cell) { window._pyforest_update_imports_cell('import tensorflow as tf'); }\n",
              "    "
            ]
          },
          "metadata": {}
        }
      ]
    },
    {
      "cell_type": "code",
      "source": [
        "#with one shape are called scalar\n",
        "string"
      ],
      "metadata": {
        "colab": {
          "base_uri": "https://localhost:8080/"
        },
        "id": "xM8eMoV1iGqL",
        "outputId": "15329912-4f0a-4062-ad59-8160e2b5896b"
      },
      "execution_count": 7,
      "outputs": [
        {
          "output_type": "execute_result",
          "data": {
            "text/plain": [
              "<tf.Variable 'Variable:0' shape=() dtype=string, numpy=b'This is a string'>"
            ]
          },
          "metadata": {},
          "execution_count": 7
        }
      ]
    },
    {
      "cell_type": "markdown",
      "source": [
        "## Rank/Degrees of tensor\n",
        "*  This means the number of dimensions in a tensor\n",
        "*   Scalar with 0 dimension or with Rank 0\n",
        "\n",
        "\n"
      ],
      "metadata": {
        "id": "3aq4-tPeiwru"
      }
    },
    {
      "cell_type": "code",
      "source": [
        "rank_1_tensor= tf.Variable(['Don', 'This is a rank 1 temsor'], tf.string)\n",
        "rank_2_tensor= tf.Variable([['Don', 'Kariuki'], ['This is a rank 2 tensor', 'cannot conert a non rectangular python sequence to Tensor']], tf.string)"
      ],
      "metadata": {
        "colab": {
          "base_uri": "https://localhost:8080/",
          "height": 17
        },
        "id": "4NFDux3fiaJF",
        "outputId": "fdfe494d-f696-4b3d-e13f-5a708155f68b"
      },
      "execution_count": 9,
      "outputs": [
        {
          "output_type": "display_data",
          "data": {
            "text/plain": [
              "<IPython.core.display.Javascript object>"
            ],
            "application/javascript": [
              "\n",
              "        if (window._pyforest_update_imports_cell) { window._pyforest_update_imports_cell('from sklearn.model_selection import train_test_split\\nimport textblob\\nfrom scipy import signal as sg\\nfrom scipy import stats\\nimport spacy\\nimport tensorflow as tf\\nimport skimage\\nimport statistics\\nimport sklearn\\nimport sys\\nimport tqdm\\nimport re\\nfrom sklearn.feature_extraction.text import TfidfVectorizer\\nimport seaborn as sns\\nfrom sklearn import svm\\nfrom sklearn.manifold import TSNE\\nimport statsmodels.api as sm\\nimport torch'); }\n",
              "    "
            ]
          },
          "metadata": {}
        },
        {
          "output_type": "display_data",
          "data": {
            "text/plain": [
              "<IPython.core.display.Javascript object>"
            ],
            "application/javascript": [
              "\n",
              "        if (window._pyforest_update_imports_cell) { window._pyforest_update_imports_cell('from sklearn.model_selection import train_test_split\\nimport textblob\\nfrom scipy import signal as sg\\nfrom scipy import stats\\nimport spacy\\nimport tensorflow as tf\\nimport skimage\\nimport statistics\\nimport sklearn\\nimport sys\\nimport tqdm\\nimport re\\nfrom sklearn.feature_extraction.text import TfidfVectorizer\\nimport seaborn as sns\\nfrom sklearn import svm\\nfrom sklearn.manifold import TSNE\\nimport statsmodels.api as sm\\nimport torch'); }\n",
              "    "
            ]
          },
          "metadata": {}
        },
        {
          "output_type": "display_data",
          "data": {
            "text/plain": [
              "<IPython.core.display.Javascript object>"
            ],
            "application/javascript": [
              "\n",
              "        if (window._pyforest_update_imports_cell) { window._pyforest_update_imports_cell('from sklearn.model_selection import train_test_split\\nimport textblob\\nfrom scipy import signal as sg\\nfrom scipy import stats\\nimport spacy\\nimport tensorflow as tf\\nimport skimage\\nimport statistics\\nimport sklearn\\nimport sys\\nimport tqdm\\nimport re\\nfrom sklearn.feature_extraction.text import TfidfVectorizer\\nimport seaborn as sns\\nfrom sklearn import svm\\nfrom sklearn.manifold import TSNE\\nimport statsmodels.api as sm\\nimport torch'); }\n",
              "    "
            ]
          },
          "metadata": {}
        },
        {
          "output_type": "display_data",
          "data": {
            "text/plain": [
              "<IPython.core.display.Javascript object>"
            ],
            "application/javascript": [
              "\n",
              "        if (window._pyforest_update_imports_cell) { window._pyforest_update_imports_cell('from sklearn.model_selection import train_test_split\\nimport textblob\\nfrom scipy import signal as sg\\nfrom scipy import stats\\nimport spacy\\nimport tensorflow as tf\\nimport skimage\\nimport statistics\\nimport sklearn\\nimport sys\\nimport tqdm\\nimport re\\nfrom sklearn.feature_extraction.text import TfidfVectorizer\\nimport seaborn as sns\\nfrom sklearn import svm\\nfrom sklearn.manifold import TSNE\\nimport statsmodels.api as sm\\nimport torch'); }\n",
              "    "
            ]
          },
          "metadata": {}
        }
      ]
    },
    {
      "cell_type": "code",
      "source": [
        "# to determine a rank of a tensor\n",
        "tf.rank(rank_2_tensor)"
      ],
      "metadata": {
        "colab": {
          "base_uri": "https://localhost:8080/",
          "height": 34
        },
        "id": "aLmppt4Dkzry",
        "outputId": "05397ca0-037c-4bd9-ee7f-8ead742dc0b6"
      },
      "execution_count": 10,
      "outputs": [
        {
          "output_type": "display_data",
          "data": {
            "text/plain": [
              "<IPython.core.display.Javascript object>"
            ],
            "application/javascript": [
              "\n",
              "        if (window._pyforest_update_imports_cell) { window._pyforest_update_imports_cell('from sklearn.model_selection import train_test_split\\nimport textblob\\nfrom scipy import signal as sg\\nfrom scipy import stats\\nimport spacy\\nimport tensorflow as tf\\nimport skimage\\nimport statistics\\nimport sklearn\\nimport sys\\nimport tqdm\\nimport re\\nfrom sklearn.feature_extraction.text import TfidfVectorizer\\nimport seaborn as sns\\nfrom sklearn import svm\\nfrom sklearn.manifold import TSNE\\nimport statsmodels.api as sm\\nimport torch'); }\n",
              "    "
            ]
          },
          "metadata": {}
        },
        {
          "output_type": "execute_result",
          "data": {
            "text/plain": [
              "<tf.Tensor: shape=(), dtype=int32, numpy=2>"
            ]
          },
          "metadata": {},
          "execution_count": 10
        }
      ]
    },
    {
      "cell_type": "markdown",
      "source": [
        "## Changing shape of a tensor\n",
        "\n",
        "\n",
        "1.   Apart from variable tensor all other values are immutable hence don't change during excecution.\n",
        "\n",
        "\n"
      ],
      "metadata": {
        "id": "Q9wWCWAUmMJ5"
      }
    },
    {
      "cell_type": "code",
      "source": [
        "# to check shape\n",
        "\n",
        "rank_1_tensor.shape"
      ],
      "metadata": {
        "colab": {
          "base_uri": "https://localhost:8080/"
        },
        "id": "IlA2DhcVlVyC",
        "outputId": "a24835dc-5094-41ab-85d1-3525b1e929a0"
      },
      "execution_count": 13,
      "outputs": [
        {
          "output_type": "execute_result",
          "data": {
            "text/plain": [
              "TensorShape([2])"
            ]
          },
          "metadata": {},
          "execution_count": 13
        }
      ]
    },
    {
      "cell_type": "code",
      "source": [],
      "metadata": {
        "id": "hwBohV4YnNep"
      },
      "execution_count": null,
      "outputs": []
    },
    {
      "cell_type": "code",
      "source": [
        "tensor1= tf.reshape(rank_2_tensor, [4, -1])\n",
        "tensor1"
      ],
      "metadata": {
        "colab": {
          "base_uri": "https://localhost:8080/",
          "height": 121
        },
        "id": "pvXG1n97mZUO",
        "outputId": "9415d051-a279-4267-f5a4-9f31a3ea3769"
      },
      "execution_count": 19,
      "outputs": [
        {
          "output_type": "display_data",
          "data": {
            "text/plain": [
              "<IPython.core.display.Javascript object>"
            ],
            "application/javascript": [
              "\n",
              "        if (window._pyforest_update_imports_cell) { window._pyforest_update_imports_cell('from sklearn.model_selection import train_test_split\\nimport textblob\\nfrom scipy import signal as sg\\nfrom scipy import stats\\nimport spacy\\nimport tensorflow as tf\\nimport skimage\\nimport statistics\\nimport sklearn\\nimport sys\\nimport tqdm\\nimport re\\nfrom sklearn.feature_extraction.text import TfidfVectorizer\\nimport seaborn as sns\\nfrom sklearn import svm\\nfrom sklearn.manifold import TSNE\\nimport statsmodels.api as sm\\nimport torch'); }\n",
              "    "
            ]
          },
          "metadata": {}
        },
        {
          "output_type": "execute_result",
          "data": {
            "text/plain": [
              "<tf.Tensor: shape=(4, 1), dtype=string, numpy=\n",
              "array([[b'Don'],\n",
              "       [b'Kariuki'],\n",
              "       [b'This is a rank 2 tensor'],\n",
              "       [b'cannot conert a non rectangular python sequence to Tensor']],\n",
              "      dtype=object)>"
            ]
          },
          "metadata": {},
          "execution_count": 19
        }
      ]
    },
    {
      "cell_type": "markdown",
      "source": [
        "## Types of tensors\n",
        "\n",
        "\n",
        "1.   Variable\n",
        "2.   Constant\n",
        "3.   Sparce\n",
        "4.   Placeholder\n",
        "\n"
      ],
      "metadata": {
        "id": "L2Rjamt4ohFP"
      }
    },
    {
      "cell_type": "markdown",
      "source": [
        "## Evaluating a tensor"
      ],
      "metadata": {
        "id": "NvGDM0O0pOO0"
      }
    },
    {
      "cell_type": "code",
      "source": [
        "#with tf.Session() as sess:\n",
        "  #tensor.eval()"
      ],
      "metadata": {
        "id": "6QV22DiDo89d"
      },
      "execution_count": 21,
      "outputs": []
    },
    {
      "cell_type": "code",
      "source": [],
      "metadata": {
        "id": "ee6XUDAJpvuu"
      },
      "execution_count": null,
      "outputs": []
    }
  ]
}