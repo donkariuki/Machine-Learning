{
  "nbformat": 4,
  "nbformat_minor": 0,
  "metadata": {
    "colab": {
      "provenance": [],
      "include_colab_link": true
    },
    "kernelspec": {
      "display_name": "Python 3",
      "language": "python",
      "name": "python3"
    },
    "language_info": {
      "codemirror_mode": {
        "name": "ipython",
        "version": 3
      },
      "file_extension": ".py",
      "mimetype": "text/x-python",
      "name": "python",
      "nbconvert_exporter": "python",
      "pygments_lexer": "ipython3",
      "version": "3.7.3"
    }
  },
  "cells": [
    {
      "cell_type": "markdown",
      "metadata": {
        "id": "view-in-github",
        "colab_type": "text"
      },
      "source": [
        "<a href=\"https://colab.research.google.com/github/donkariuki/Machine-Learning/blob/main/Variables_and_Data_Types.ipynb\" target=\"_parent\"><img src=\"https://colab.research.google.com/assets/colab-badge.svg\" alt=\"Open In Colab\"/></a>"
      ]
    },
    {
      "cell_type": "markdown",
      "metadata": {
        "id": "7AYfd0R_H25M"
      },
      "source": [
        "---\n",
        "\n",
        "<center> <h1>📍📍 Variables and Data Types 📍📍</h1> </center> \n",
        "\n",
        "---\n",
        "\n",
        "\n"
      ]
    },
    {
      "cell_type": "markdown",
      "metadata": {
        "id": "UZAwvdkVTT80"
      },
      "source": [
        "---\n",
        "\n",
        "###  📍 Variable Assignment\n",
        "\n",
        "\n",
        "- When you create a variable you keep some space in memory. These memory locations are then used to store values. \n",
        "\n",
        "\n",
        "\n",
        "---"
      ]
    },
    {
      "cell_type": "code",
      "metadata": {
        "id": "RwytTuVtTT86"
      },
      "source": [
        "# define a variable name \"a\" and assign value 5 to it\n",
        "a = 5"
      ],
      "execution_count": null,
      "outputs": []
    },
    {
      "cell_type": "code",
      "metadata": {
        "id": "xHRxi0kJTT9J",
        "outputId": "b01cd4bb-d712-4871-d812-f7f375fe3844"
      },
      "source": [
        "# print the value of variable\n",
        "a"
      ],
      "execution_count": null,
      "outputs": [
        {
          "output_type": "execute_result",
          "data": {
            "text/plain": [
              "5"
            ]
          },
          "metadata": {
            "tags": []
          },
          "execution_count": 2
        }
      ]
    },
    {
      "cell_type": "markdown",
      "metadata": {
        "id": "EqSttqhXH26C"
      },
      "source": [
        "- To view some data on the output screen, python also has `print` function. Using `print` function we can control the view on the output screen.\n",
        "- Later in the course, we will discuss what are functions in detail and see more use of this function.\n",
        "\n",
        "---"
      ]
    },
    {
      "cell_type": "code",
      "metadata": {
        "id": "UgjwJ-t4H26G",
        "outputId": "952b846d-9fdc-41c1-dc63-036d618e6d79"
      },
      "source": [
        "print(a)"
      ],
      "execution_count": null,
      "outputs": [
        {
          "output_type": "stream",
          "text": [
            "5\n"
          ],
          "name": "stdout"
        }
      ]
    },
    {
      "cell_type": "markdown",
      "metadata": {
        "id": "-L7z6LHMTT9j"
      },
      "source": [
        "### 📍 How variables work in Python\n",
        "\n",
        "---"
      ]
    },
    {
      "cell_type": "code",
      "metadata": {
        "id": "YJNEW88WTT9l"
      },
      "source": [
        "# Look at the following statements\n",
        "a = 7\n",
        "b = a\n",
        "a = 3"
      ],
      "execution_count": null,
      "outputs": []
    },
    {
      "cell_type": "markdown",
      "metadata": {
        "id": "3gDZO4S2H261"
      },
      "source": [
        "\n",
        "\n",
        "***What will be the value of a?***\n",
        "\n",
        "\n",
        "---"
      ]
    },
    {
      "cell_type": "code",
      "metadata": {
        "id": "ZCXj-19kTT9s",
        "outputId": "1890f99f-09ba-4ac1-f3ee-445491953ae1"
      },
      "source": [
        "print(a)"
      ],
      "execution_count": null,
      "outputs": [
        {
          "output_type": "stream",
          "text": [
            "3\n"
          ],
          "name": "stdout"
        }
      ]
    },
    {
      "cell_type": "code",
      "metadata": {
        "id": "YwIfEojETT9x",
        "outputId": "084ce68f-babe-40ad-b6b1-4bdec9f1b6e6"
      },
      "source": [
        "print(b)"
      ],
      "execution_count": null,
      "outputs": [
        {
          "output_type": "stream",
          "text": [
            "7\n"
          ],
          "name": "stdout"
        }
      ]
    },
    {
      "cell_type": "markdown",
      "metadata": {
        "id": "WJMr6Ij1TT95"
      },
      "source": [
        "### 📍 Variable naming rules\n",
        "\n",
        "\n",
        "---\n",
        "***Identifiers in Python***\n",
        "\n",
        "* Like Variables, we have to define functions, classes, etc in python. Naming them helps to differentiate one entity from another.\n",
        "* All these names given to these entities are known as `Identifiers`. \n",
        "* Python have some rules to define the Identifiers.  \n",
        "\n",
        "\n",
        "***Rules of Writing Identifiers***\n",
        "\n",
        "* Python is case sensitive language.\n",
        "* Identifiers can be a combination of letters in lowercase (a to z) or uppercase (A to Z) or digits (0 to 9) or an underscore _. Names like myVariable, var_1 and print_this, all are valid example.\n",
        "* An identifier cannot start with a digit.\n",
        "* `1variable` is invalid, but `variable1` is perfectly fine.\n",
        "* We cannot use special symbols like !, @, #, $, % etc. in our identifier. `_` is allowed.\n",
        "\n",
        "* ***`Keywords` cannot be used as identifiers. `Keywords` are the reserved words in Python.***\n",
        "\n",
        "---\n",
        "\n",
        "***Keywords in Python***\n",
        "\n",
        "---\n",
        "\n",
        "* False\t\n",
        "* class\t\n",
        "* finally\t\n",
        "* is\t\n",
        "* return\n",
        "* None\t\n",
        "* continue\t\n",
        "* for\t\n",
        "* lambda\t\n",
        "* try\n",
        "* True, etc\n",
        "\n",
        "\n",
        "---"
      ]
    },
    {
      "cell_type": "markdown",
      "metadata": {
        "id": "sLHTDA74H27Y"
      },
      "source": [
        "---\n",
        "\n",
        "***Python is case sensitive so `a` and `A` are different***\n",
        "\n",
        "---"
      ]
    },
    {
      "cell_type": "code",
      "metadata": {
        "id": "VztaPO9_TT9T"
      },
      "source": [
        "A = 4"
      ],
      "execution_count": null,
      "outputs": []
    },
    {
      "cell_type": "code",
      "metadata": {
        "id": "2vPxm7ZFTT9b",
        "outputId": "3481c07a-33ed-423d-cdc7-254bfe2b09d0"
      },
      "source": [
        "print(a)\n",
        "print(A)"
      ],
      "execution_count": null,
      "outputs": [
        {
          "output_type": "stream",
          "text": [
            "3\n",
            "4\n"
          ],
          "name": "stdout"
        }
      ]
    },
    {
      "cell_type": "markdown",
      "metadata": {
        "id": "3lKle9bNH27x"
      },
      "source": [
        "***Rules to define variable names***\n",
        "\n",
        "---"
      ]
    },
    {
      "cell_type": "code",
      "metadata": {
        "id": "3pUTYZ6eTT98"
      },
      "source": [
        "# allowed\n",
        "a = 5"
      ],
      "execution_count": null,
      "outputs": []
    },
    {
      "cell_type": "code",
      "metadata": {
        "id": "iGqhYLZcTT-D"
      },
      "source": [
        "# only \"_\" underscore is allowed in allowed in special characters in the variable name\n",
        "_a = 5"
      ],
      "execution_count": null,
      "outputs": []
    },
    {
      "cell_type": "code",
      "metadata": {
        "id": "tzzvqrGzTT-K",
        "outputId": "d69ff379-1e30-41b7-86dc-32ec22987019"
      },
      "source": [
        "# other special characters are not allowed\n",
        "@a=5"
      ],
      "execution_count": null,
      "outputs": [
        {
          "output_type": "error",
          "ename": "SyntaxError",
          "evalue": "invalid syntax (<ipython-input-11-d71cdc5ed5c5>, line 2)",
          "traceback": [
            "\u001b[0;36m  File \u001b[0;32m\"<ipython-input-11-d71cdc5ed5c5>\"\u001b[0;36m, line \u001b[0;32m2\u001b[0m\n\u001b[0;31m    @a=5\u001b[0m\n\u001b[0m      ^\u001b[0m\n\u001b[0;31mSyntaxError\u001b[0m\u001b[0;31m:\u001b[0m invalid syntax\n"
          ]
        }
      ]
    },
    {
      "cell_type": "code",
      "metadata": {
        "id": "Lq6vHXutTT-S",
        "outputId": "67fd9e5a-495c-4556-ce2b-10414f29325d"
      },
      "source": [
        "# we can not start with variables name with a number\n",
        "1a = 5"
      ],
      "execution_count": null,
      "outputs": [
        {
          "output_type": "error",
          "ename": "SyntaxError",
          "evalue": "invalid syntax (<ipython-input-12-c86ca84d118d>, line 2)",
          "traceback": [
            "\u001b[0;36m  File \u001b[0;32m\"<ipython-input-12-c86ca84d118d>\"\u001b[0;36m, line \u001b[0;32m2\u001b[0m\n\u001b[0;31m    1a = 5\u001b[0m\n\u001b[0m     ^\u001b[0m\n\u001b[0;31mSyntaxError\u001b[0m\u001b[0;31m:\u001b[0m invalid syntax\n"
          ]
        }
      ]
    },
    {
      "cell_type": "markdown",
      "metadata": {
        "id": "gZZ71oaoTT-b"
      },
      "source": [
        "---\n",
        "\n",
        "\n",
        "###  📍 Data types\n",
        "\n",
        "* int\n",
        "* string\n",
        "* float\n",
        "* bool\n",
        "\n",
        "---"
      ]
    },
    {
      "cell_type": "code",
      "metadata": {
        "id": "TAp-6G0iTT-d"
      },
      "source": [
        "# INTEGER TYPE\n",
        "a = 5"
      ],
      "execution_count": null,
      "outputs": []
    },
    {
      "cell_type": "code",
      "metadata": {
        "id": "9BpIBVm7TT-i",
        "outputId": "62205899-29c5-4808-bff7-d025bde912aa"
      },
      "source": [
        "type(a)"
      ],
      "execution_count": null,
      "outputs": [
        {
          "output_type": "execute_result",
          "data": {
            "text/plain": [
              "int"
            ]
          },
          "metadata": {
            "tags": []
          },
          "execution_count": 14
        }
      ]
    },
    {
      "cell_type": "code",
      "metadata": {
        "id": "_U_9IeNcTT-o"
      },
      "source": [
        "# STRING TYPE\n",
        "b = \"lakshay\""
      ],
      "execution_count": null,
      "outputs": []
    },
    {
      "cell_type": "code",
      "metadata": {
        "id": "maIKGc1YTT-t",
        "outputId": "0ecde854-2abd-424b-dbd3-a65216cdf675"
      },
      "source": [
        "type(b)"
      ],
      "execution_count": null,
      "outputs": [
        {
          "output_type": "execute_result",
          "data": {
            "text/plain": [
              "str"
            ]
          },
          "metadata": {
            "tags": []
          },
          "execution_count": 16
        }
      ]
    },
    {
      "cell_type": "code",
      "metadata": {
        "id": "U7EBWvhYTT-z"
      },
      "source": [
        "# FLOAT TYPE\n",
        "c = 5.55"
      ],
      "execution_count": null,
      "outputs": []
    },
    {
      "cell_type": "code",
      "metadata": {
        "id": "SuYm1q1bH29P",
        "outputId": "df8166e8-a43d-4711-dd21-978f9e4de99b"
      },
      "source": [
        "type(c)"
      ],
      "execution_count": null,
      "outputs": [
        {
          "output_type": "execute_result",
          "data": {
            "text/plain": [
              "float"
            ]
          },
          "metadata": {
            "tags": []
          },
          "execution_count": 18
        }
      ]
    },
    {
      "cell_type": "code",
      "metadata": {
        "id": "aQIRv3w0H29Z"
      },
      "source": [
        "# BOOLEAN TYPE\n",
        "d = True"
      ],
      "execution_count": null,
      "outputs": []
    },
    {
      "cell_type": "code",
      "metadata": {
        "id": "ccbkAixHH29h",
        "outputId": "cab33de3-e709-4fb0-edb2-d40fb7a0892b"
      },
      "source": [
        "type(d)"
      ],
      "execution_count": null,
      "outputs": [
        {
          "output_type": "execute_result",
          "data": {
            "text/plain": [
              "bool"
            ]
          },
          "metadata": {
            "tags": []
          },
          "execution_count": 20
        }
      ]
    },
    {
      "cell_type": "markdown",
      "metadata": {
        "id": "yHSCgf4TH29p"
      },
      "source": [
        "---\n",
        "\n",
        "### 📍 Type Conversion\n",
        "\n",
        "\n",
        "***Python defines type conversion functions to directly convert one data type to another.***\n",
        "\n",
        "\n",
        "\n",
        "---"
      ]
    },
    {
      "cell_type": "markdown",
      "metadata": {
        "id": "UzRTGkQjH29t"
      },
      "source": [
        "***convert float to integer***\n",
        "\n",
        "---"
      ]
    },
    {
      "cell_type": "code",
      "metadata": {
        "id": "9ArOJo2EH29v",
        "outputId": "2c1fd721-68f4-4c96-8498-29798869a9b3"
      },
      "source": [
        "# age is generally in integer numbers\n",
        "my_age = 26.33333\n",
        "my_age = int(my_age)\n",
        "my_age"
      ],
      "execution_count": null,
      "outputs": [
        {
          "output_type": "execute_result",
          "data": {
            "text/plain": [
              "26"
            ]
          },
          "metadata": {
            "tags": []
          },
          "execution_count": 21
        }
      ]
    },
    {
      "cell_type": "markdown",
      "metadata": {
        "id": "XmZXXMwUH293"
      },
      "source": [
        "***convert string to integer***\n",
        "\n",
        "---"
      ]
    },
    {
      "cell_type": "code",
      "metadata": {
        "id": "yOSW9UHlH295",
        "outputId": "6dfc0295-923d-4feb-edb0-aa45994252f9"
      },
      "source": [
        "# if we try to add string and integer number, it will give an error\n",
        "my_int = '2' + 6"
      ],
      "execution_count": null,
      "outputs": [
        {
          "output_type": "error",
          "ename": "TypeError",
          "evalue": "can only concatenate str (not \"int\") to str",
          "traceback": [
            "\u001b[0;31m---------------------------------------------------------------------------\u001b[0m",
            "\u001b[0;31mTypeError\u001b[0m                                 Traceback (most recent call last)",
            "\u001b[0;32m<ipython-input-22-a68038bc8264>\u001b[0m in \u001b[0;36m<module>\u001b[0;34m()\u001b[0m\n\u001b[1;32m      1\u001b[0m \u001b[0;31m# if we try to add string and integer number, it will give an error\u001b[0m\u001b[0;34m\u001b[0m\u001b[0;34m\u001b[0m\u001b[0;34m\u001b[0m\u001b[0m\n\u001b[0;32m----> 2\u001b[0;31m \u001b[0mmy_int\u001b[0m \u001b[0;34m=\u001b[0m \u001b[0;34m'2'\u001b[0m \u001b[0;34m+\u001b[0m \u001b[0;36m6\u001b[0m\u001b[0;34m\u001b[0m\u001b[0;34m\u001b[0m\u001b[0m\n\u001b[0m",
            "\u001b[0;31mTypeError\u001b[0m: can only concatenate str (not \"int\") to str"
          ]
        }
      ]
    },
    {
      "cell_type": "code",
      "metadata": {
        "id": "nW_GnkkXH29_",
        "outputId": "06a82b14-b3a1-41bf-a9d3-aef68a6379de"
      },
      "source": [
        "# type conversion: string to int\n",
        "my_int = int('2') + 6\n",
        "my_int"
      ],
      "execution_count": null,
      "outputs": [
        {
          "output_type": "execute_result",
          "data": {
            "text/plain": [
              "8"
            ]
          },
          "metadata": {
            "tags": []
          },
          "execution_count": 23
        }
      ]
    },
    {
      "cell_type": "code",
      "metadata": {
        "id": "BmS5xrIcH2-G"
      },
      "source": [],
      "execution_count": null,
      "outputs": []
    }
  ]
}